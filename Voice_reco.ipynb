{
 "cells": [
  {
   "cell_type": "code",
   "execution_count": 1,
   "id": "adad0b9b-95d8-4f16-b2a3-11953b2d6077",
   "metadata": {},
   "outputs": [
    {
     "name": "stdout",
     "output_type": "stream",
     "text": [
      "Listening... Speak now!\n",
      "You said: arise\n",
      "Coming Forward\n",
      "Listening... Speak now!\n",
      "You said: exit\n",
      "Exiting voice recognition...\n",
      "goodbye\n"
     ]
    }
   ],
   "source": [
    "# Custom Voice commands\n",
    "import speech_recognition as sr\n",
    "# Initialize recognizer\n",
    "recognizer = sr.Recognizer()\n",
    "\n",
    "# Function to recognize speech\n",
    "def recognize_speech():\n",
    "    with sr.Microphone() as source:\n",
    "        print(\"Listening... Speak now!\")\n",
    "        recognizer.adjust_for_ambient_noise(source)  # Reduce background noise\n",
    "        audio = recognizer.listen(source)  # Capture voice input\n",
    "        \n",
    "        try:\n",
    "            text = recognizer.recognize_google(audio)  # Convert speech to text\n",
    "            print(\"You said:\", text)\n",
    "            return text.lower()  # Convert to lowercase for consistency\n",
    "        except sr.UnknownValueError:\n",
    "            print(\"Sorry, I couldn't understand that.\")\n",
    "            return None\n",
    "        except sr.RequestError:\n",
    "            print(\"Error with the recognition service.\")\n",
    "            return None\n",
    "\n",
    "# Test the function\n",
    "if __name__ == \"__main__\":\n",
    "    while True:\n",
    "        command = recognize_speech()\n",
    "        if command == \"exit\":\n",
    "            print(\"Exiting voice recognition...\")\n",
    "            break\n",
    "        elif command == \"arise\":\n",
    "            print(\"Coming Forward\")\n",
    "        elif command == \"stay\":\n",
    "            print(\"Stopping\")\n",
    "        elif command == \"left\":\n",
    "            print(\"Going left\")\n",
    "        elif command == \"right\":\n",
    "            print(\"Going right\")\n",
    "    print(\"goodbye\")"
   ]
  },
  {
   "cell_type": "code",
   "execution_count": null,
   "id": "f1e8ab81-b284-4abe-86f9-ec317f36cd4c",
   "metadata": {},
   "outputs": [],
   "source": []
  }
 ],
 "metadata": {
  "kernelspec": {
   "display_name": "Python 3 (ipykernel)",
   "language": "python",
   "name": "python3"
  },
  "language_info": {
   "codemirror_mode": {
    "name": "ipython",
    "version": 3
   },
   "file_extension": ".py",
   "mimetype": "text/x-python",
   "name": "python",
   "nbconvert_exporter": "python",
   "pygments_lexer": "ipython3",
   "version": "3.11.7"
  }
 },
 "nbformat": 4,
 "nbformat_minor": 5
}
